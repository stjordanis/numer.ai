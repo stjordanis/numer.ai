{
 "cells": [
  {
   "cell_type": "markdown",
   "metadata": {},
   "source": [
    "# Numer.ai\n",
    "\n",
    "We look into the [numer.ai](https://numer.ai/) data challenge using sklean. Thanks to [Zygmunt Zając](https://github.com/zygmuntz/numer.ai) for posting examples."
   ]
  },
  {
   "cell_type": "code",
   "execution_count": null,
   "metadata": {
    "collapsed": true
   },
   "outputs": [],
   "source": [
    "import pandas as pd\n",
    "from time import clock"
   ]
  },
  {
   "cell_type": "markdown",
   "metadata": {},
   "source": [
    "We first need to load the data. We drop the validation flag for the prediction."
   ]
  },
  {
   "cell_type": "code",
   "execution_count": null,
   "metadata": {
    "collapsed": false
   },
   "outputs": [],
   "source": [
    "train_file = 'dataset/numerai_training_data.csv'\n",
    "test_file = 'dataset/numerai_tournament_data.csv'\n",
    "predict_file = 'predict.csv'\n",
    "\n",
    "start = clock()\n",
    "train_data = pd.read_csv(train_file)\n",
    "test_data = pd.read_csv(test_file)\n",
    "print('Loaded {:d} train and {:d} test entries in {:.0f} seconds.'.format( \n",
    "    len(train_data), len(test_data), clock() - start))\n",
    "\n",
    "# No need for validation flag for final training and extrapolation\n",
    "train_data.drop('validation', axis = 1 , inplace = True)\n",
    "\n",
    "# Separate data and target label\n",
    "train_target = train_data['target']\n",
    "train_data.drop('target', axis = 1, inplace = True)"
   ]
  },
  {
   "cell_type": "markdown",
   "metadata": {},
   "source": [
    "There is one categorial variable. We use one-hot encoding to deal with it."
   ]
  },
  {
   "cell_type": "code",
   "execution_count": null,
   "metadata": {
    "collapsed": true
   },
   "outputs": [],
   "source": [
    "# Check train and test have the same categories\n",
    "assert(set(train_data['c1'].unique()) == set(test_data['c1'].unique()))\n",
    "\n",
    "# Encode column in train, then drop original column\n",
    "train_dummies = pd.get_dummies(train_data['c1'])\n",
    "train_data = pd.concat((train_data.drop('c1', axis = 1), train_dummies.astype(int)), axis = 1)\n",
    "\n",
    "# Encode column in test, then drop original column\n",
    "test_dummies = pd.get_dummies(test_data['c1'])\n",
    "test_data = pd.concat((test_data.drop('c1', axis = 1), test_dummies.astype(int)), axis = 1)"
   ]
  },
  {
   "cell_type": "markdown",
   "metadata": {},
   "source": [
    "We can use ggplot to visualize the data, and obverse the structure."
   ]
  },
  {
   "cell_type": "code",
   "execution_count": null,
   "metadata": {
    "collapsed": false
   },
   "outputs": [],
   "source": [
    "from ggplot import ggplot, aes, geom_point\n",
    "%pylab inline\n",
    "\n",
    "f1f2 = ggplot(train_data, aes(x = 'f1', y = 'f2')) \\\n",
    "       + geom_point()\n",
    "\n",
    "print(f1f2)"
   ]
  },
  {
   "cell_type": "markdown",
   "metadata": {},
   "source": [
    "<img src=\"dataset_f1f2.png\">"
   ]
  },
  {
   "cell_type": "markdown",
   "metadata": {},
   "source": [
    "# Prediction\n",
    "We simply now have to select a classifier. Random forest does fine, and so does preprocessed logistic regression."
   ]
  },
  {
   "cell_type": "code",
   "execution_count": null,
   "metadata": {
    "collapsed": true
   },
   "outputs": [],
   "source": [
    "# Random forest\n",
    "\n",
    "from sklearn.ensemble import RandomForestClassifier as RF\n",
    "\n",
    "clf = RF(n_estimators = 1000, verbose = True)"
   ]
  },
  {
   "cell_type": "code",
   "execution_count": null,
   "metadata": {
    "collapsed": false
   },
   "outputs": [],
   "source": [
    "# Logistic regression with preprocessor\n",
    "\n",
    "from sklearn.pipeline import Pipeline\n",
    "from sklearn.preprocessing import MinMaxScaler\n",
    "from sklearn.linear_model import LogisticRegression as LR\n",
    "\n",
    "clf = Pipeline([('MinMaxScaler', MinMaxScaler()), ('LR', LR())])"
   ]
  },
  {
   "cell_type": "markdown",
   "metadata": {},
   "source": [
    "We simply now have to train, extrapolate, and save."
   ]
  },
  {
   "cell_type": "code",
   "execution_count": null,
   "metadata": {
    "collapsed": false
   },
   "outputs": [],
   "source": [
    "# Fit training data\n",
    "\n",
    "start = clock()\n",
    "clf.fit(train_data, train_target)\n",
    "print(\"Fitted in {:.0f} seconds.\".format(clock() - start))\n",
    "\n",
    "# Extrapolate\n",
    "\n",
    "start = clock()\n",
    "# Don't forget to ignore the t_id column!\n",
    "predict = clf.predict_proba(test_data.drop('t_id', axis = 1, inplace = False))\n",
    "print(\"Extrapolated in {:.0f} seconds.\".format(clock() - start))\n",
    "\n",
    "# Save results\n",
    "\n",
    "test_data['probability'] = predict[:,1]\n",
    "test_data.to_csv(predict_file, cols = ('t_id', 'probability'), index = None)"
   ]
  },
  {
   "cell_type": "markdown",
   "metadata": {},
   "source": [
    "The scores are measured using the ROC AUC. As of February 2016,\n",
    "- RF does 0.5218;\n",
    "- MMS+LR does 0.5278."
   ]
  }
 ],
 "metadata": {
  "kernelspec": {
   "display_name": "Python 3",
   "language": "python",
   "name": "python3"
  },
  "language_info": {
   "codemirror_mode": {
    "name": "ipython",
    "version": 3
   },
   "file_extension": ".py",
   "mimetype": "text/x-python",
   "name": "python",
   "nbconvert_exporter": "python",
   "pygments_lexer": "ipython3",
   "version": "3.4.3"
  }
 },
 "nbformat": 4,
 "nbformat_minor": 0
}
